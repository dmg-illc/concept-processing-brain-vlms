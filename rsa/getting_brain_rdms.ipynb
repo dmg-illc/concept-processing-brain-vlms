{
 "cells": [
  {
   "cell_type": "markdown",
   "metadata": {},
   "source": [
    "# Obtaining RDMs From fMRI Data\n",
    "\n",
    "This notebook contains code to obtain representational dissimilarity matrices from fMRI responses in both experimental conditions (picture condition and sentence condition)."
   ]
  },
  {
   "cell_type": "code",
   "execution_count": null,
   "metadata": {},
   "outputs": [],
   "source": [
    "# importing necessary libraries\n",
    "import os\n",
    "import numpy as np\n",
    "from scipy.io import loadmat\n",
    "from scipy.spatial.distance import pdist, squareform\n",
    "from src.utils import open_json, dict_to_json\n",
    "from src.paths import ROOT"
   ]
  },
  {
   "cell_type": "code",
   "execution_count": null,
   "metadata": {},
   "outputs": [],
   "source": [
    "# function to extract netowrk-wise representations\n",
    "\n",
    "def get_network_activations(fmri_data, network_name):\n",
    "\n",
    "  \"\"\"\n",
    "    This function takes as input the loaded matlab file with fMRI responses from one participant (fmri_data)\n",
    "    and outputs an n_concepts x n_ROIs matrix with the fMRI responses from a specific brain network\n",
    "    (network name).\n",
    "  \"\"\"\n",
    "\n",
    "  networks = [atlas[0] for atlas in fmri_data['meta']['atlases'][0][0][0]]\n",
    "  nw_index = networks.index(network_name)\n",
    "\n",
    "  nw_columns = fmri_data['meta']['roiColumns'][0][0][0][nw_index]\n",
    "  column_indexes = np.concatenate([nw_columns[roi][0].flatten()-1 for roi in range(len(nw_columns))], axis=0)\n",
    "\n",
    "  network_responses = fmri_data['examples'][:, column_indexes]\n",
    "\n",
    "  return network_responses"
   ]
  },
  {
   "cell_type": "code",
   "execution_count": null,
   "metadata": {},
   "outputs": [],
   "source": [
    "# obtaining a list of participant IDs based on folder names\n",
    "participants = os.listdir(ROOT / 'data/Pereira/subjects')"
   ]
  },
  {
   "cell_type": "code",
   "execution_count": null,
   "metadata": {},
   "outputs": [],
   "source": [
    "# creating a dictionary to store RDMs\n",
    "\n",
    "responses = {'picture': {'visual': [],\n",
    "                        'languageLH': [],\n",
    "                        'languageRH': []},\n",
    "            'sentence': {'visual': [],\n",
    "                        'languageLH': [],\n",
    "                        'languageRH': []}}"
   ]
  },
  {
   "cell_type": "markdown",
   "metadata": {},
   "source": [
    "## Picture condition\n",
    "\n",
    "We first populate the dictionary with RDMs from the fMRI data collected in the picture condition."
   ]
  },
  {
   "cell_type": "code",
   "execution_count": null,
   "metadata": {},
   "outputs": [],
   "source": [
    "# populating the dictionary with matrices\n",
    "\n",
    "for participant in participants:\n",
    "    part_data  = loadmat(ROOT / 'data/Pereira/subjects' / participant / 'data_180concepts_pictures.mat')\n",
    "    for network in ['visual', 'languageLH', 'languageRH']:\n",
    "        activations = get_network_activations(part_data, network)\n",
    "        responses['picture'][network].append(activations)\n",
    "    "
   ]
  },
  {
   "cell_type": "code",
   "execution_count": null,
   "metadata": {},
   "outputs": [],
   "source": [
    "# turning the matrices into RDMs\n",
    "\n",
    "for network in ['visual', 'languageLH', 'languageRH']:\n",
    "    network_rdm = np.empty((16, 180, 180))\n",
    "    for i in range(len(participants)):\n",
    "        network_rdm[i] = squareform(pdist(responses['picture'][network][i], metric='cosine'))\n",
    "    avg_rdm = network_rdm.mean(axis=0).tolist()\n",
    "    responses['picture'][network] = avg_rdm"
   ]
  },
  {
   "cell_type": "markdown",
   "metadata": {},
   "source": [
    "## Sentence condition\n",
    "\n",
    "We then add RDMs from the fMRI data collected in the sentence condition."
   ]
  },
  {
   "cell_type": "code",
   "execution_count": 21,
   "metadata": {},
   "outputs": [],
   "source": [
    "for participant in participants:\n",
    "    part_data  = loadmat(ROOT / 'data/Pereira/subjects' / participant / 'data_180concepts_sentences.mat')\n",
    "    for network in ['visual', 'languageLH', 'languageRH']:\n",
    "        activations = get_network_activations(part_data, network)\n",
    "        responses['sentence'][network].append(activations)\n",
    "    "
   ]
  },
  {
   "cell_type": "code",
   "execution_count": 22,
   "metadata": {},
   "outputs": [],
   "source": [
    "for network in ['visual', 'languageLH', 'languageRH']:\n",
    "    network_rdm = np.empty((16, 180, 180))\n",
    "    for i in range(len(participants)):\n",
    "        network_rdm[i] = squareform(pdist(responses['sentence'][network][i], metric='cosine'))\n",
    "    avg_rdm = network_rdm.mean(axis=0).tolist()\n",
    "    responses['sentence'][network] = avg_rdm"
   ]
  },
  {
   "cell_type": "code",
   "execution_count": null,
   "metadata": {},
   "outputs": [],
   "source": [
    "# saving the dict storing RDMs\n",
    "\n",
    "dict_to_json(responses, 'participant_rdms.json')"
   ]
  }
 ],
 "metadata": {
  "kernelspec": {
   "display_name": "Python 3 (ipykernel)",
   "language": "python",
   "name": "python3"
  },
  "language_info": {
   "codemirror_mode": {
    "name": "ipython",
    "version": 3
   },
   "file_extension": ".py",
   "mimetype": "text/x-python",
   "name": "python",
   "nbconvert_exporter": "python",
   "pygments_lexer": "ipython3",
   "version": "3.9.12"
  }
 },
 "nbformat": 4,
 "nbformat_minor": 4
}
