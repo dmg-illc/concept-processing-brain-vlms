{
 "cells": [
  {
   "cell_type": "markdown",
   "metadata": {},
   "source": [
    "# Partial correlation analysis\n",
    "\n",
    "This notebook contains code to reproduce the ablation study performed for the sentence condition, i.e., the partial correlation analysis where we regressed LMs' RDMs out of VLMs's RDMs."
   ]
  },
  {
   "cell_type": "code",
   "execution_count": null,
   "metadata": {},
   "outputs": [],
   "source": [
    "# importing necessary libraries and modules\n",
    "from src.paths import ROOT\n",
    "from src.utils import open_json\n",
    "import numpy as np\n",
    "import pandas as pd\n",
    "from sklearn.linear_model import LinearRegression\n",
    "from scipy.stats import spearmanr\n",
    "from src.best_layers import *"
   ]
  },
  {
   "cell_type": "code",
   "execution_count": null,
   "metadata": {},
   "outputs": [],
   "source": [
    "# importing bran rdms\n",
    "brain_rdms = open_json(ROOT / 'data/participant_rdms.json')"
   ]
  },
  {
   "cell_type": "code",
   "execution_count": null,
   "metadata": {},
   "outputs": [],
   "source": [
    "# function to perform partial correlation analysis\n",
    "\n",
    "def regress_model(model_to_remove_rdm, target_model_rdm, brain_rdm):\n",
    "    '''\n",
    "        This function takes as input the target model RDM (target_model_rdm), the RDM that has\n",
    "        to be regressed out (model_to_remove_rdm) and the fMRI-derived RDM (brain_rdm). It \n",
    "        performes the necessary linear regression and outputs residuals, the Spearman correlation\n",
    "        between residuals and brain RDM (rho) and its associated p-value.\n",
    "    \n",
    "    '''\n",
    "\n",
    "    # fitting linear regression\n",
    "    lm = LinearRegression().fit(model_to_remove_rdm.reshape(-1, 1), target_model_rdm)\n",
    "\n",
    "    # obtaining residuals\n",
    "    residuals = target_model_rdm - lm.predict(model_to_remove_rdm.reshape(-1, 1))\n",
    "\n",
    "    # computing partial correlation and p-value\n",
    "    rho, pval = spearmanr(residuals, brain_rdm)\n",
    "    \n",
    "    return residuals, rho, pval\n",
    "\n"
   ]
  },
  {
   "cell_type": "markdown",
   "metadata": {},
   "source": [
    "## Computing partial correlations"
   ]
  },
  {
   "cell_type": "code",
   "execution_count": null,
   "metadata": {},
   "outputs": [],
   "source": [
    "# importing model RDMs\n",
    "rdms_sentence = open_json(ROOT / 'data/sentences_model_rdms.json')\n",
    "\n",
    "# creating a dict that maps VLMs to the language-only counterparts\n",
    "model_to_counterpart = {'visualbert': 'bert', 'lxmert': 'bert', 'llava': 'llama', 'align': 'bert', 'idefics2': 'mistral'}"
   ]
  },
  {
   "cell_type": "code",
   "execution_count": null,
   "metadata": {},
   "outputs": [
    {
     "name": "stdout",
     "output_type": "stream",
     "text": [
      "Initial Rho: 0.1\tpval:0.0\n",
      "Rho: 0.098\tpval:0.0\n",
      "Initial Rho: 0.06\tpval:0.0\n",
      "Rho: 0.043\tpval:0.0\n",
      "Initial Rho: 0.09\tpval:0.0\n",
      "Rho: 0.087\tpval:0.0\n",
      "Initial Rho: 0.08\tpval:0.0\n",
      "Rho: 0.081\tpval:0.0\n",
      "Initial Rho: 0.05\tpval:0.0\n",
      "Rho: 0.04\tpval:0.0\n",
      "Initial Rho: 0.08\tpval:0.0\n",
      "Rho: 0.068\tpval:0.0\n",
      "Initial Rho: 0.01\tpval:0.103\n",
      "Rho: 0.003\tpval:0.664\n",
      "Initial Rho: 0.06\tpval:0.0\n",
      "Rho: 0.032\tpval:0.0\n",
      "Initial Rho: 0.06\tpval:0.0\n",
      "Rho: 0.027\tpval:0.001\n",
      "Initial Rho: 0.02\tpval:0.008\n",
      "Rho: 0.02\tpval:0.012\n",
      "Initial Rho: -0.06\tpval:0.0\n",
      "Rho: -0.059\tpval:0.0\n",
      "Initial Rho: 0.02\tpval:0.005\n",
      "Rho: 0.021\tpval:0.008\n",
      "Initial Rho: 0.05\tpval:0.0\n",
      "Rho: 0.009\tpval:0.265\n",
      "Initial Rho: 0.08\tpval:0.0\n",
      "Rho: 0.001\tpval:0.86\n",
      "Initial Rho: 0.09\tpval:0.0\n",
      "Rho: 0.045\tpval:0.0\n"
     ]
    }
   ],
   "source": [
    "# creating a dist to save partial correlation results\n",
    "partial_correlations_sentence = {}\n",
    "triu_indices = np.triu_indices(n=180, m=180, k=1)\n",
    "\n",
    "# iterating through vlms\n",
    "for model in model_to_counterpart:\n",
    "    partial_correlations_sentence[model] = {}\n",
    "    lo_model = model_to_counterpart[model]\n",
    "    \n",
    "    # iterating through brain networks\n",
    "    for network in ['languageLH', 'languageRH', 'visual']:\n",
    "\n",
    "        # selecting the off-diagonal of RDM for the language-only counterpart\n",
    "        counterpart_rdm = np.array(rdms_sentence[lo_model][best_layers_sentence[lo_model][network]])[triu_indices]\n",
    "        \n",
    "        # selecting the off-diagonal of brain RDM\n",
    "        brain_rdm = np.array(brain_rdms['sentence'][network])[triu_indices]\n",
    "        \n",
    "        # creating model-specific dict\n",
    "        partial_correlations_sentence[model][network] = {}\n",
    "\n",
    "        # selecting the off-diagonal of vlm RDM\n",
    "        model_rdm = np.array(rdms_sentence[model][best_layers_sentence[model][network]])[triu_indices]\n",
    "        \n",
    "        # computing and storing intitial correlation\n",
    "        rho, pval = spearmanr(model_rdm, brain_rdm)\n",
    "        print(f\"Initial Rho: {round(rho,2)}\\tpval:{round(pval, 3)}\")\n",
    "        partial_correlations_sentence[model][network][\"initial\"] = rho\n",
    "\n",
    "        # computing and storing partial correlation\n",
    "        residuals, rho, pval =  regress_model(model_to_remove=counterpart_rdm, target_model=model_rdm, brain_data=brain_rdm)\n",
    "        print(f\"Rho: {round(rho,3)}\\tpval:{round(pval, 3)}\")\n",
    "        partial_correlations_sentence[model][network][\"wo_language\"] = rho\n",
    "        \n",
    "    "
   ]
  },
  {
   "cell_type": "markdown",
   "metadata": {},
   "source": [
    "### Performing statistical tests"
   ]
  },
  {
   "cell_type": "code",
   "execution_count": null,
   "metadata": {},
   "outputs": [],
   "source": [
    "from src.statistical_tests import corr_significance_test\n",
    "\n",
    "models = ['align', 'visualbert', 'lxmert', 'llava', 'idefics2']\n",
    "n = 180\n",
    "size = (n*n-n)/2\n",
    "\n",
    "corrected_alpha = 0.05 / 5\n",
    "\n",
    "for network in ['languageLH', 'languageRH', 'visual']:\n",
    "\n",
    "    print(network)\n",
    "    \n",
    "    for model in models:\n",
    "        corr_1 = partial_correlations_sentence[model][network]['initial']\n",
    "        corr_2 = partial_correlations_sentence[model][network]['wo_language']\n",
    "        p_val = corr_significance_test(size, corr1=corr_1, corr2=corr_2)\n",
    "\n",
    "        if p_val > corrected_alpha:\n",
    "            print(f\"\\tThe difference between initial and partial correlations for {model} is not statistically significant\")\n",
    "       \n",
    "    "
   ]
  }
 ],
 "metadata": {
  "kernelspec": {
   "display_name": "mm-brain",
   "language": "python",
   "name": "python3"
  },
  "language_info": {
   "codemirror_mode": {
    "name": "ipython",
    "version": 3
   },
   "file_extension": ".py",
   "mimetype": "text/x-python",
   "name": "python",
   "nbconvert_exporter": "python",
   "pygments_lexer": "ipython3",
   "version": "3.10.13"
  }
 },
 "nbformat": 4,
 "nbformat_minor": 2
}
